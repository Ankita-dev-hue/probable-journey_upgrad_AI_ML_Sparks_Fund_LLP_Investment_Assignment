{
 "cells": [
  {
   "cell_type": "code",
   "execution_count": 1,
   "metadata": {},
   "outputs": [
    {
     "name": "stdout",
     "output_type": "stream",
     "text": [
      "Total unique companies in rounds dataframe is : 66368\n"
     ]
    }
   ],
   "source": [
    "#Unique columns in rounds2.csv \n",
    "import pandas as pd\n",
    "filePath2=r\"C:\\Users\\awx5324225\\Documents\\Upgrad_AI_ML\\Assignment1\\rounds2.csv\"\n",
    "\n",
    "# making data frame for rounds csv   \n",
    "rounds_df = pd.read_csv(filePath2,encoding='latin-1')\n",
    "\n",
    "# Removing non-ascii values from company_permalink column   \n",
    "rounds_df.company_permalink=rounds_df.company_permalink.str.encode(\"ascii\", \"ignore\").str.decode(\"ascii\", \"ignore\") \n",
    "\n",
    "# Converting into lower case   \n",
    "rounds_df.company_permalink = rounds_df.company_permalink.str.lower()\n",
    "\n",
    "# Filtering with unique values in company_permalink column \n",
    "unique_companies_in_rounds_df = rounds_df.company_permalink.unique()\n",
    "\n",
    "print(\"Total unique companies in rounds dataframe is :\", len(unique_companies_in_rounds_df))"
   ]
  },
  {
   "cell_type": "code",
   "execution_count": 2,
   "metadata": {},
   "outputs": [
    {
     "name": "stdout",
     "output_type": "stream",
     "text": [
      "Total unique companies in companies dataframe is : 66368\n"
     ]
    }
   ],
   "source": [
    "# Unique columns in companies.csv   \n",
    "  \n",
    "filePath1=r\"C:\\Users\\awx5324225\\Documents\\Upgrad_AI_ML\\Assignment1\\companies.csv\" \n",
    "\n",
    "# making data frame for companies csv   \n",
    "companies_df = pd.read_csv(filePath1,encoding='latin-1')\n",
    "\n",
    "# Removing non-ascii values from permalink column\n",
    "companies_df.permalink=companies_df.permalink.str.encode(\"ascii\", \"ignore\").str.decode(\"ascii\", \"ignore\")\n",
    "\n",
    "# Converting into lower case\n",
    "companies_df.permalink = companies_df.permalink.str.lower()\n",
    "\n",
    "# Filtering with unique values in permalink column\n",
    "unique_companies_in_companies_df = companies_df.permalink.unique()\n",
    "\n",
    "print(\"Total unique companies in companies dataframe is :\",len(unique_companies_in_companies_df))"
   ]
  },
  {
   "cell_type": "code",
   "execution_count": 3,
   "metadata": {
    "scrolled": true
   },
   "outputs": [
    {
     "name": "stdout",
     "output_type": "stream",
     "text": [
      "Total number of observations in master_frame is : 114949\n"
     ]
    }
   ],
   "source": [
    "#Merging 2 given dataframes\n",
    "master_frame = pd.merge(rounds_df,companies_df,left_on='company_permalink',right_on='permalink',how='inner')\n",
    "print(\"Total number of observations in master_frame is :\",len(master_frame))"
   ]
  },
  {
   "cell_type": "code",
   "execution_count": 4,
   "metadata": {},
   "outputs": [
    {
     "name": "stdout",
     "output_type": "stream",
     "text": [
      "N\n"
     ]
    }
   ],
   "source": [
    "#Finding whether columns in 2 data frames have same values or not.\n",
    "not_present_values_count = len(set(unique_companies_in_rounds_df).symmetric_difference(set(unique_companies_in_companies_df))) \n",
    "\n",
    "if not_present_values_count==0:\n",
    "    print(\"N\")\n",
    "else:\n",
    "    print(\"Y\")"
   ]
  },
  {
   "cell_type": "code",
   "execution_count": 5,
   "metadata": {
    "scrolled": false
   },
   "outputs": [
    {
     "name": "stdout",
     "output_type": "stream",
     "text": [
      "                       raised_amount_usd\n",
      "funding_round_type                      \n",
      "angel                       9.586945e+05\n",
      "convertible_note            1.453439e+06\n",
      "debt_financing              1.704353e+07\n",
      "equity_crowdfunding         5.383682e+05\n",
      "grant                       4.300576e+06\n",
      "non_equity_assistance       4.112031e+05\n",
      "post_ipo_debt               1.687046e+08\n",
      "post_ipo_equity             8.218249e+07\n",
      "private_equity              7.330859e+07\n",
      "product_crowdfunding        1.363131e+06\n",
      "secondary_market            7.964963e+07\n",
      "seed                        7.198180e+05\n",
      "undisclosed                 1.924237e+07\n",
      "venture                     1.174891e+07\n"
     ]
    }
   ],
   "source": [
    "#Finding average of raised_amount_usd using group by funding_round_type\n",
    "df=master_frame.groupby(['funding_round_type']).mean()\n",
    "print(df)"
   ]
  },
  {
   "cell_type": "code",
   "execution_count": 6,
   "metadata": {
    "scrolled": true
   },
   "outputs": [
    {
     "name": "stdout",
     "output_type": "stream",
     "text": [
      "[958694.4697530865, 1453438.5431928127, 17043526.023046993, 538368.2109120521, 4300576.33945386, 411203.05479452055, 168704571.8223684, 82182493.87101911, 73308593.02944215, 1363131.0699481866, 79649630.1, 719817.9969071728, 19242370.225663718, 11748914.30998029]\n",
      "\n",
      "[0.9586944697530865, 1.4534385431928127, 17.043526023046994, 0.5383682109120521, 4.30057633945386, 0.4112030547945206, 168.70457182236842, 82.1824938710191, 73.30859302944215, 1.3631310699481867, 79.6496301, 0.7198179969071729, 19.242370225663716, 11.74891430998029]\n",
      "[11.74891430998029]\n"
     ]
    }
   ],
   "source": [
    "#For converting exponential type values into integer and checking which value lies between 5-15 Million USD\n",
    "a=list()\n",
    "b=list()\n",
    "for i in df.raised_amount_usd:\n",
    "    value=str(i).replace(',', '.')\n",
    "    b.append(float(value))\n",
    "print(b)\n",
    "print()\n",
    "for i in df.raised_amount_usd:\n",
    "    value=str(i).replace(',', '.')\n",
    "    a.append(float(value)/1000000)\n",
    "print(a)\n",
    "result = filter(lambda x: x>=5 and x<=15, a)\n",
    "print(list(result))"
   ]
  },
  {
   "cell_type": "code",
   "execution_count": 7,
   "metadata": {
    "scrolled": true
   },
   "outputs": [
    {
     "name": "stdout",
     "output_type": "stream",
     "text": [
      "              raised_amount_usd\n",
      "country_code                   \n",
      "USA                4.225208e+11\n",
      "CHN                3.983542e+10\n",
      "GBR                2.024563e+10\n",
      "IND                1.439186e+10\n",
      "CAN                9.583332e+09\n",
      "FRA                7.259537e+09\n",
      "ISR                6.907515e+09\n",
      "DEU                6.346960e+09\n",
      "JPN                3.363677e+09\n",
      "              raised_amount_usd\n",
      "country_code                   \n",
      "USA                4.225208e+11\n",
      "CHN                3.983542e+10\n",
      "GBR                2.024563e+10\n",
      "IND                1.439186e+10\n",
      "CAN                9.583332e+09\n",
      "FRA                7.259537e+09\n",
      "ISR                6.907515e+09\n",
      "DEU                6.346960e+09\n",
      "JPN                3.363677e+09\n",
      "SWE                3.254953e+09\n"
     ]
    }
   ],
   "source": [
    "#Finding top 9 countries with highest funding\n",
    "Spark_Funds_df1=master_frame[master_frame.funding_round_type=='venture']\n",
    "df=Spark_Funds_df1.groupby(['country_code']).sum()\n",
    "print(df.sort_values(by=['raised_amount_usd'],ascending=False).head(9))\n",
    "df_req=df.sort_values(by=['raised_amount_usd'],ascending=False).head(10)\n",
    "print(df_req)"
   ]
  },
  {
   "cell_type": "code",
   "execution_count": 8,
   "metadata": {
    "scrolled": true
   },
   "outputs": [],
   "source": [
    "#Splitting the category_list column values into a single value\n",
    "category_list1=list(master_frame['category_list'])\n",
    "result=[str(x).split(\"|\")[0] for x in category_list1]"
   ]
  },
  {
   "cell_type": "code",
   "execution_count": 9,
   "metadata": {
    "scrolled": false
   },
   "outputs": [],
   "source": [
    "#Filtering the df by funding_round_type and then by required country_code\n",
    "master_frame['primary_sector']=pd.Series(result)\n",
    "master_frame_map_FT=master_frame[master_frame.funding_round_type=='venture']\n",
    "\n",
    "master_frame_map_filtered=master_frame_map_FT[master_frame_map_FT.country_code.isin(['USA','GBR','IND'])]"
   ]
  },
  {
   "cell_type": "code",
   "execution_count": 10,
   "metadata": {},
   "outputs": [],
   "source": [
    "#Converting mapping.csv file into df\n",
    "filePath3=r\"C:\\Users\\awx5324225\\Documents\\Upgrad_AI_ML\\Assignment1\\mapping.csv\" \n",
    "mapping_df = pd.read_csv(filePath3,encoding='latin-1')\n",
    "#Dropping blank row\n",
    "mapping_df.dropna(subset=['category_list'], inplace=True)\n",
    "#Dropping Blanks column\n",
    "mapping_df=mapping_df.drop(columns='Blanks')\n"
   ]
  },
  {
   "cell_type": "code",
   "execution_count": 11,
   "metadata": {},
   "outputs": [],
   "source": [
    "#Merging master_frame and mapping_df given dataframes and getting the untimate final df\n",
    "master_frame_map = pd.merge(master_frame,mapping_df,left_on='primary_sector',right_on='category_list',how='inner')\n"
   ]
  },
  {
   "cell_type": "code",
   "execution_count": 12,
   "metadata": {},
   "outputs": [],
   "source": [
    "#Function to write the main_sector column\n",
    "def main_sector(row):\n",
    "   if row['Automotive & Sports']== 1 :\n",
    "      return 'Automotive & Sports'\n",
    "   if row['Cleantech / Semiconductors']==1 :\n",
    "      return 'Cleantech / Semiconductors'\n",
    "   if row['Entertainment']== 1 :\n",
    "      return 'Entertainment'\n",
    "   if row['Health']== 1:\n",
    "      return 'Health'\n",
    "   if row['Manufacturing']== 1:\n",
    "      return 'Manufacturing'\n",
    "   if row['News, Search and Messaging']== 1:\n",
    "      return 'News, Search and Messaging'\n",
    "   if row['Others']== 1:\n",
    "      return 'Others'\n",
    "   if row['Social, Finance, Analytics, Advertising']== 1:\n",
    "      return 'Social, Finance, Analytics, Advertising'\n",
    "   return 'Nan'\n",
    "master_frame_map['main_sector'] = master_frame_map.apply (lambda row: main_sector(row), axis=1)\n",
    "#Dropping the binary valued column\n",
    "master_frame_map_drop=master_frame_map.drop(master_frame_map.columns.to_series()[\"Automotive & Sports\":\"Social, Finance, Analytics, Advertising\"], axis=1)\n",
    "#Filtering the final df first by required FT then by C1,C2 and C3\n",
    "master_frame_map_FT=master_frame_map_drop[master_frame_map_drop.funding_round_type=='venture']\n",
    "master_frame_map_selCon=master_frame_map_FT[master_frame_map_FT.country_code.isin(['USA','GBR','IND'])]\n",
    "\n",
    "#Dividing master_frame_map_selCon df into requied country based dfs\n",
    "df_USA=master_frame_map_selCon.loc[master_frame_map_selCon['country_code']=='USA']\n",
    "df_GBR=master_frame_map_selCon.loc[master_frame_map_selCon['country_code']=='GBR']\n",
    "df_IND=master_frame_map_selCon.loc[master_frame_map_selCon['country_code']=='IND']\n"
   ]
  },
  {
   "cell_type": "code",
   "execution_count": 13,
   "metadata": {
    "scrolled": false
   },
   "outputs": [
    {
     "name": "stdout",
     "output_type": "stream",
     "text": [
      "                                                  sum  count\n",
      "main_sector                                                 \n",
      "Automotive & Sports                      1.163216e+10    505\n",
      "Cleantech / Semiconductors               1.187644e+11   7849\n",
      "Entertainment                            1.656783e+10   1756\n",
      "Health                                   3.166093e+10   3263\n",
      "Manufacturing                            2.484532e+10   2453\n",
      "News, Search and Messaging               4.462932e+10   4302\n",
      "Others                                   8.208458e+10   8243\n",
      "Social, Finance, Analytics, Advertising  6.206299e+10   5156\n"
     ]
    }
   ],
   "source": [
    "#Finding the suma nd count of resp. main_sector for USA\n",
    "USA_grp=df_USA.groupby(['main_sector'])\n",
    "df_USA_final=pd.DataFrame(USA_grp['raised_amount_usd'].agg(['sum','count']))\n",
    "print(df_USA_final)"
   ]
  },
  {
   "cell_type": "code",
   "execution_count": 14,
   "metadata": {},
   "outputs": [
    {
     "name": "stdout",
     "output_type": "stream",
     "text": [
      "                                                  sum  count\n",
      "main_sector                                                 \n",
      "Automotive & Sports                      4.808787e+08     44\n",
      "Cleantech / Semiconductors               5.028729e+09    433\n",
      "Entertainment                            1.141281e+09    133\n",
      "Health                                   1.046655e+09    118\n",
      "Manufacturing                            1.019283e+09    122\n",
      "News, Search and Messaging               2.956024e+09    241\n",
      "Others                                   4.400423e+09    507\n",
      "Social, Finance, Analytics, Advertising  2.851116e+09    318\n"
     ]
    }
   ],
   "source": [
    "#Finding the suma nd count of resp. main_sector for GBR\n",
    "GBR_grp=df_GBR.groupby(['main_sector'])\n",
    "df_GBR_final=pd.DataFrame(GBR_grp['raised_amount_usd'].agg(['sum','count']))\n",
    "print(df_GBR_final)"
   ]
  },
  {
   "cell_type": "code",
   "execution_count": 15,
   "metadata": {},
   "outputs": [
    {
     "name": "stdout",
     "output_type": "stream",
     "text": [
      "                                                  sum  count\n",
      "main_sector                                                 \n",
      "Automotive & Sports                      1.556350e+09     31\n",
      "Cleantech / Semiconductors               7.864446e+08     54\n",
      "Entertainment                            9.757053e+08     75\n",
      "Health                                   5.643700e+08     42\n",
      "Manufacturing                            7.302600e+08     55\n",
      "News, Search and Messaging               1.739580e+09    130\n",
      "Others                                   6.318507e+09    281\n",
      "Social, Finance, Analytics, Advertising  8.667639e+08     77\n"
     ]
    }
   ],
   "source": [
    "#Finding the suma nd count of resp. main_sector for IND\n",
    "IND_grp=df_IND.groupby(['main_sector'])\n",
    "df_IND_final=pd.DataFrame(IND_grp['raised_amount_usd'].agg(['sum','count']))\n",
    "print(df_IND_final)"
   ]
  },
  {
   "cell_type": "code",
   "execution_count": 16,
   "metadata": {},
   "outputs": [],
   "source": [
    "# Merging into final dfs i.e. D1, D2 and D3\n",
    "df_USA_final['main_sector'] = df_USA_final.index\n",
    "D1 = pd.merge(df_USA, df_USA_final, on='main_sector', how='left')\n",
    "\n",
    "df_GBR_final['main_sector'] = df_GBR_final.index\n",
    "D2 = pd.merge(df_GBR, df_GBR_final, on='main_sector', how='left')\n",
    "D2.to_csv(r\"C:\\Users\\awx5324225\\Desktop\\Book7.csv\", index = False)\n",
    "\n",
    "df_IND_final['main_sector'] = df_IND_final.index\n",
    "D3 = pd.merge(df_IND, df_IND_final, on='main_sector', how='left')\n",
    "D3.to_csv(r\"C:\\Users\\awx5324225\\Desktop\\Book9.csv\", index = False)"
   ]
  },
  {
   "cell_type": "code",
   "execution_count": 17,
   "metadata": {
    "scrolled": true
   },
   "outputs": [
    {
     "name": "stdout",
     "output_type": "stream",
     "text": [
      "Number_of_investments_C1:  35421\n",
      "Number_of_investments_C1_usd:  2436604116453841.0\n",
      "Top sector based on count of investments_C1:  Others\n",
      "8243 7849 5156\n",
      "Second-best sector based on count of investments_C1:  Cleantech / Semiconductors\n",
      "Third-best sector based on count of investments_C1:  Social, Finance, Analytics, Advertising\n",
      "                                            count\n",
      "main_sector                                      \n",
      "Others                                   71656399\n",
      "Cleantech / Semiconductors               63678937\n",
      "Social, Finance, Analytics, Advertising  28631268\n",
      "News, Search and Messaging               19625724\n",
      "Health                                   11103989\n",
      "Manufacturing                             6483279\n",
      "Entertainment                             3315328\n",
      "Automotive & Sports                        285830\n",
      "Top sector based on highest investment_C1:  SoFi\n",
      "Second-best sector based on highest investment_C1:  Adhere2Care\n",
      "8243 7849 5156\n",
      "Others Cleantech / Semiconductors Social, Finance, Analytics, Advertising\n"
     ]
    }
   ],
   "source": [
    "import numpy as np\n",
    "Number_of_investments_C1= D1['count']\n",
    "print(\"Number_of_investments_C1: \", len(Number_of_investments_C1))\n",
    "\n",
    "Number_of_investments_C1_usd= D1['sum']\n",
    "print(\"Number_of_investments_C1_usd: \",Number_of_investments_C1_usd.sum())\n",
    "\n",
    "D1_temp=D1.sort_values(by=['count'],ascending=False)\n",
    "print(\"Top sector based on count of investments_C1: \",D1_temp.iloc[0]['main_sector'])\n",
    "unique_count_list=D1_temp['count'].unique()\n",
    "print(unique_count_list[0],unique_count_list[1],unique_count_list[2])\n",
    "\n",
    "row_num2=D1[D1['count']== unique_count_list[1]].index.values[0]\n",
    "print(\"Second-best sector based on count of investments_C1: \",D1.iloc[row_num2]['main_sector'])\n",
    "\n",
    "row_num3=D1[D1['count']== unique_count_list[2]].index.values[0]\n",
    "\n",
    "print(\"Third-best sector based on count of investments_C1: \",D1.iloc[row_num3]['main_sector'])\n",
    "\n",
    "D1_agg=pd.DataFrame(D1_temp.groupby(['main_sector'])['count'].sum())\n",
    "print(D1_agg.sort_values(by=['count'],ascending=False))\n",
    "\n",
    "\n",
    "D1_temp['raised_amount_usd'].replace('', np.nan, inplace=True)\n",
    "D1_temp.dropna(subset=['raised_amount_usd'], inplace=True)\n",
    "\n",
    "df1 = D1_temp[['name','count','raised_amount_usd','main_sector']]\n",
    "df1_sorted=df1.sort_values(by=['count','raised_amount_usd'],ascending=False)\n",
    "\n",
    "\n",
    "print(\"The company (based on top sector) that received highest investment_C1: \",df1_sorted.iloc[0]['name'])\n",
    "\n",
    "row_num22=df1_sorted[df1_sorted['count']== unique_count_list[1]].index.values[0]\n",
    "print(\"The company (based on second-best sector) that received highest investment_C3: \",df1_sorted.iloc[row_num22]['name'])\n",
    "USA_count1=unique_count_list[0]\n",
    "USA_count2=unique_count_list[1]\n",
    "USA_count3=unique_count_list[2]\n",
    "print(USA_count1,USA_count2,USA_count3)\n",
    "\n",
    "USA_sec1=D1_temp.iloc[0]['main_sector']\n",
    "USA_sec2=D1.iloc[row_num2]['main_sector']\n",
    "USA_sec3=D1.iloc[row_num3]['main_sector']\n",
    "print(USA_sec1,USA_sec2,USA_sec3)"
   ]
  },
  {
   "cell_type": "code",
   "execution_count": 18,
   "metadata": {},
   "outputs": [
    {
     "name": "stdout",
     "output_type": "stream",
     "text": [
      "Number_of_investments_C2:  2120\n",
      "Number_of_investments_C2_usd:  7084211637094.0\n",
      "Top sector based on count of investments_C2:  Others\n",
      "507 433 318\n",
      "Second-best sector based on count of investments_C2:  Cleantech / Semiconductors\n",
      "Third-best sector based on count of investments_C1:  Social, Finance, Analytics, Advertising\n",
      "                                          count\n",
      "main_sector                                    \n",
      "Others                                   289497\n",
      "Cleantech / Semiconductors               197448\n",
      "Social, Finance, Analytics, Advertising  114162\n",
      "News, Search and Messaging                63865\n",
      "Entertainment                             20881\n",
      "Manufacturing                             16104\n",
      "Health                                    14868\n",
      "Automotive & Sports                        2376\n",
      "Top sector based on highest investment_C2:  OneWeb\n",
      "Second-best sector based on highest investment_C2:  Cloud 66\n",
      "507 433 318\n",
      "Others Cleantech / Semiconductors Social, Finance, Analytics, Advertising\n"
     ]
    }
   ],
   "source": [
    "import numpy as np\n",
    "Number_of_investments_C2= D2['count']\n",
    "print(\"Number_of_investments_C2: \", len(Number_of_investments_C2))\n",
    "\n",
    "Number_of_investments_C2_usd= D2['sum']\n",
    "print(\"Number_of_investments_C2_usd: \",Number_of_investments_C2_usd.sum())\n",
    "\n",
    "D2_temp=D2.sort_values(by=['count'],ascending=False)\n",
    "print(\"Top sector based on count of investments_C2: \",D2_temp.iloc[0]['main_sector'])\n",
    "unique_count_list=D2_temp['count'].unique()\n",
    "print(unique_count_list[0],unique_count_list[1],unique_count_list[2])\n",
    "\n",
    "row_num2=D2[D2['count']== unique_count_list[1]].index.values[0]\n",
    "print(\"Second-best sector based on count of investments_C2: \",D2.iloc[row_num2]['main_sector'])\n",
    "\n",
    "row_num3=D2[D2['count']== unique_count_list[2]].index.values[0]\n",
    "\n",
    "print(\"Third-best sector based on count of investments_C1: \",D2.iloc[row_num3]['main_sector'])\n",
    "\n",
    "D2_agg=pd.DataFrame(D2_temp.groupby(['main_sector'])['count'].sum())\n",
    "print(D2_agg.sort_values(by=['count'],ascending=False))\n",
    "\n",
    "\n",
    "D2_temp['raised_amount_usd'].replace('', np.nan, inplace=True)\n",
    "D2_temp.dropna(subset=['raised_amount_usd'], inplace=True)\n",
    "\n",
    "df2 = D2_temp[['name','count','raised_amount_usd','main_sector']]\n",
    "df2_sorted=df2.sort_values(by=['count','raised_amount_usd'],ascending=False)\n",
    "\n",
    "\n",
    "print(\"The company (based on top sector) that received highest investment_C2: \",df2_sorted.iloc[0]['name'])\n",
    "\n",
    "row_num22=df2_sorted[df2_sorted['count']== unique_count_list[1]].index.values[0]\n",
    "print(\"The company (based on second-best sector) that received highest investment_C2: \",df2_sorted.iloc[row_num22]['name'])\n",
    "\n",
    "GBR_count1=unique_count_list[0]\n",
    "GBR_count2=unique_count_list[1]\n",
    "GBR_count3=unique_count_list[2]\n",
    "print(GBR_count1,GBR_count2,GBR_count3)\n",
    "\n",
    "GBR_sec1=D2_temp.iloc[0]['main_sector']\n",
    "GBR_sec2=D2.iloc[row_num2]['main_sector']\n",
    "GBR_sec3=D2.iloc[row_num3]['main_sector']\n",
    "print(GBR_sec1,GBR_sec2,GBR_sec3)"
   ]
  },
  {
   "cell_type": "code",
   "execution_count": 41,
   "metadata": {},
   "outputs": [
    {
     "name": "stdout",
     "output_type": "stream",
     "text": [
      "Number_of_investments_C3:  890\n",
      "Number_of_investments_C3_usd:  2700380344383.0\n",
      "Top sector based on count of investments_C3:  Others\n",
      "281 130 77\n",
      "Second-best sector based on count of investments_C3:  News, Search and Messaging\n",
      "Third-best sector based on count of investments_C3:  Social, Finance, Analytics, Advertising\n",
      "                                         count\n",
      "main_sector                                   \n",
      "Others                                   92449\n",
      "News, Search and Messaging               20020\n",
      "Social, Finance, Analytics, Advertising   8008\n",
      "Entertainment                             6600\n",
      "Manufacturing                             3520\n",
      "Cleantech / Semiconductors                3402\n",
      "Health                                    2352\n",
      "Automotive & Sports                        992\n",
      "Top sector based on highest investment_C3:  Flipkart\n",
      "Second-best sector based on highest investment_C3:  Urban Ladder\n",
      "281 281 281\n",
      "Others News, Search and Messaging Social, Finance, Analytics, Advertising\n"
     ]
    }
   ],
   "source": [
    "import numpy as np\n",
    "Number_of_investments_C3= D3['count']\n",
    "print(\"Number_of_investments_C3: \", len(Number_of_investments_C3))\n",
    "\n",
    "Number_of_investments_C3_usd= D3['sum']\n",
    "print(\"Number_of_investments_C3_usd: \",Number_of_investments_C3_usd.sum())\n",
    "\n",
    "D3_temp=D3.sort_values(by=['count'],ascending=False)\n",
    "print(\"Top sector based on count of investments_C3: \",D3_temp.iloc[0]['main_sector'])\n",
    "unique_count_list=D3_temp['count'].unique()\n",
    "print(unique_count_list[0],unique_count_list[1],unique_count_list[2])\n",
    "\n",
    "row_num2=D3[D3['count']== unique_count_list[1]].index.values[0]\n",
    "print(\"Second-best sector based on count of investments_C3: \",D3.iloc[row_num2]['main_sector'])\n",
    "\n",
    "row_num3=D3[D3['count']== unique_count_list[2]].index.values[0]\n",
    "\n",
    "print(\"Third-best sector based on count of investments_C3: \",D3.iloc[row_num3]['main_sector'])\n",
    "\n",
    "D3_agg=pd.DataFrame(D3_temp.groupby(['main_sector'])['count'].sum())\n",
    "print(D3_agg.sort_values(by=['count'],ascending=False))\n",
    "\n",
    "\n",
    "D3_temp['raised_amount_usd'].replace('', np.nan, inplace=True)\n",
    "D3_temp.dropna(subset=['raised_amount_usd'], inplace=True)\n",
    "\n",
    "df3 = D3_temp[['name','count','raised_amount_usd','main_sector']]\n",
    "df3_sorted=df3.sort_values(by=['count','raised_amount_usd'],ascending=False)\n",
    "\n",
    "\n",
    "print(\"The company (based on top sector) that received highest investment_C3: \",df3_sorted.iloc[0]['name'])\n",
    "\n",
    "row_num22=df3_sorted[df3_sorted['count']== unique_count_list[1]].index.values[0]\n",
    "print(\"The company (based on second-best sector) that received highest investment_C3: \",df3_sorted.iloc[row_num22]['name'])\n",
    "\n",
    "IND_count1=unique_count_list[0]\n",
    "IND_count2=unique_count_list[1]\n",
    "IND_count3=unique_count_list[2]\n",
    "print(IND_count1,IND_count1,IND_count1)\n",
    "\n",
    "IND_sec1=D3_temp.iloc[0]['main_sector']\n",
    "IND_sec2=D3.iloc[row_num2]['main_sector']\n",
    "IND_sec3=D3.iloc[row_num3]['main_sector']\n",
    "print(IND_sec1,IND_sec2,IND_sec3)"
   ]
  },
  {
   "cell_type": "code",
   "execution_count": 20,
   "metadata": {},
   "outputs": [
    {
     "name": "stdout",
     "output_type": "stream",
     "text": [
      "[958694.47, 11748914.31, 719818.0, 73308593.03]\n",
      "86736019.81\n"
     ]
    }
   ],
   "source": [
    "c=[round(b[0],2),round(b[13],2),round(b[11],2),round(b[8],2)]\n",
    "print(c)\n",
    "f= round(b[0],2)+round(b[13],2)+round(b[11],2)+round(b[8],2)\n",
    "print(f)"
   ]
  },
  {
   "cell_type": "code",
   "execution_count": 64,
   "metadata": {
    "scrolled": true
   },
   "outputs": [
    {
     "name": "stdout",
     "output_type": "stream",
     "text": [
      "[0.011, 0.135, 0.008, 0.845]\n"
     ]
    }
   ],
   "source": [
    "d=[round(b[0]/f,3),round(b[13]/f,3),round(b[11]/f,3),round(b[8]/f,3)]\n",
    "print(d)"
   ]
  },
  {
   "cell_type": "code",
   "execution_count": 65,
   "metadata": {},
   "outputs": [
    {
     "data": {
      "image/png": "[encoded data removed]",
      "text/plain": [
       "<matplotlib.figure.Figure at 0x254b277e390>"
      ]
     },
     "metadata": {},
     "output_type": "display_data"
    }
   ],
   "source": [
    "#A plot showing the fraction of total investments (globally) in angel, venture, seed, and private equity, and the average amount of investment in each funding type\n",
    "import matplotlib.pyplot as plt\n",
    "plt.plot([958694.47, 11748914.31, 719818.0, 73308593.03],[0.011, 0.135, 0.008, 0.845])\n",
    "#angel, venture, seed, and private equity\n",
    "plt.ylabel('The fraction of total investments')\n",
    "plt.xlabel('Average amount of investment in each funding type')\n",
    "plt.show()"
   ]
  },
  {
   "cell_type": "code",
   "execution_count": 68,
   "metadata": {},
   "outputs": [
    {
     "data": {
      "image/png": "[encoded data removed]",
      "text/plain": [
       "<matplotlib.figure.Figure at 0x254b38d4470>"
      ]
     },
     "metadata": {},
     "output_type": "display_data"
    }
   ],
   "source": [
    "#A plot showing the fraction of total investments (globally) in angel, venture, seed, and private equity, and the average amount of investment in each funding type\n",
    "import pandas as pd\n",
    "import seaborn as sns\n",
    "import matplotlib.pyplot as plt\n",
    "\n",
    "Avg_amount_eachGivenFT = [958694.47, 11748914.31, 719818.0, 73308593.03]\n",
    "Fraction=[0.011, 0.135, 0.008, 0.845]\n",
    "df = pd.DataFrame({\"Avg_amount_eachGivenFT\":Avg_amount_eachGivenFT, \"Fraction\":Fraction})\n",
    "plt.figure(figsize=(8, 6))\n",
    "\n",
    "splot=sns.barplot(x=\"Avg_amount_eachGivenFT\",y=\"Fraction\",data=df)\n",
    "for p in splot.patches:\n",
    "    splot.annotate(format(p.get_height(), '.1f'), \n",
    "                   (p.get_x() + p.get_width() / 2., p.get_height()), \n",
    "                   ha = 'center', va = 'center', \n",
    "                   xytext = (0, 9), \n",
    "                   textcoords = 'offset points')\n",
    "plt.xlabel(\"Average amount of investment in each funding type\", size=12)\n",
    "plt.ylabel(\"The fraction of total investments\", size=14)\n",
    "plt.savefig(r\"C:\\Users\\awx5324225\\Desktop\\Plot1.png\")"
   ]
  },
  {
   "cell_type": "code",
   "execution_count": 70,
   "metadata": {},
   "outputs": [
    {
     "name": "stdout",
     "output_type": "stream",
     "text": [
      "              raised_amount_usd country_code\n",
      "country_code                                \n",
      "USA                4.225208e+11          USA\n",
      "CHN                3.983542e+10          CHN\n",
      "GBR                2.024563e+10          GBR\n",
      "IND                1.439186e+10          IND\n",
      "CAN                9.583332e+09          CAN\n",
      "FRA                7.259537e+09          FRA\n",
      "ISR                6.907515e+09          ISR\n",
      "DEU                6.346960e+09          DEU\n",
      "JPN                3.363677e+09          JPN\n",
      "SWE                3.254953e+09          SWE\n",
      "[422520842796.0, 39835418773.0, 20245627416.0, 14391858718.0, 9583332317.0, 7259536732.0, 6907514579.0, 6346959822.0, 3363676611.0, 3254952563.0]\n",
      "['USA', 'CHN', 'GBR', 'IND', 'CAN', 'FRA', 'ISR', 'DEU', 'JPN', 'SWE']\n"
     ]
    }
   ],
   "source": [
    "#df_req\n",
    "df_req['country_code'] = df_req.index\n",
    "print(df_req)\n",
    "c=list()\n",
    "for i in df_req.raised_amount_usd:\n",
    "    value=str(i).replace(',', '.')\n",
    "    c.append(float(value))\n",
    "print(c)\n",
    "d=list(df_req.country_code)\n",
    "print(d)"
   ]
  },
  {
   "cell_type": "code",
   "execution_count": 71,
   "metadata": {
    "scrolled": true
   },
   "outputs": [
    {
     "data": {
      "image/png": "[encoded data removed]",
      "text/plain": [
       "<matplotlib.figure.Figure at 0x254b39b2470>"
      ]
     },
     "metadata": {},
     "output_type": "display_data"
    },
    {
     "data": {
      "text/plain": [
       "<matplotlib.figure.Figure at 0x254b38599b0>"
      ]
     },
     "metadata": {},
     "output_type": "display_data"
    }
   ],
   "source": [
    "#A plot showing the top 9 countries against the total amount of investments of funding type FT by scatter plot\n",
    "import matplotlib.pyplot as plt\n",
    "plt.plot(['USA','GBR', 'IND', 'CAN', 'FRA', 'ISR', 'DEU', 'JPN','SWE'],[422520842796.0, 20245627416.0, 14391858718.0, 9583332317.0, 7259536732.0, 6907514579.0, 6346959822.0, 3363676611.0,3254952563.0],'ro')\n",
    "plt.ylabel('Total amount of investments of funding type venture')\n",
    "plt.xlabel('Top 9 countries')\n",
    "plt.show()\n",
    "plt.savefig(r\"C:\\Users\\awx5324225\\Desktop\\Plot2.png\")\n",
    "#China is removed as it was surely coming under top 3 countries but is not an english speaking country  as suitable for Spark Funds"
   ]
  },
  {
   "cell_type": "code",
   "execution_count": 72,
   "metadata": {},
   "outputs": [
    {
     "data": {
      "image/png": "[encoded data removed]",
      "text/plain": [
       "<matplotlib.figure.Figure at 0x254b38d4e80>"
      ]
     },
     "metadata": {},
     "output_type": "display_data"
    }
   ],
   "source": [
    "#A plot showing the top 9 countries against the total amount of investments of funding type FT by Bar graph\n",
    "import pandas as pd\n",
    "import seaborn as sns\n",
    "import matplotlib.pyplot as plt\n",
    "\n",
    "Countries = ['USA','GBR', 'IND', 'CAN', 'FRA', 'ISR', 'DEU', 'JPN','SWE']\n",
    "Total_Investments=[422520842796.0, 20245627416.0, 14391858718.0, 9583332317.0, 7259536732.0, 6907514579.0, 6346959822.0, 3363676611.0,3254952563.0]\n",
    "\n",
    "df = pd.DataFrame({\"Countries\":Countries, \"Total_Investments\":Total_Investments})\n",
    "plt.figure(figsize=(8, 6))\n",
    "sns.barplot(x=\"Countries\",y=\"Total_Investments\",data=df)\n",
    "plt.xlabel(\"Top 9 Countries(Top 3 are Eng speaking)\", size=12)\n",
    "plt.ylabel(\"Total amount of investments of funding type venture\", size=14)\n",
    "plt.savefig(r\"C:\\Users\\awx5324225\\Desktop\\Plot2.png\")"
   ]
  },
  {
   "cell_type": "code",
   "execution_count": 73,
   "metadata": {
    "scrolled": true
   },
   "outputs": [
    {
     "name": "stdout",
     "output_type": "stream",
     "text": [
      "   Top1  Top2  Top3 Countries\n",
      "0  8243  7849  5156       USA\n",
      "1   507   433   318       GBR\n",
      "2   281   130    77       IND\n"
     ]
    },
    {
     "data": {
      "image/png": "[encoded data removed]",
      "text/plain": [
       "<matplotlib.figure.Figure at 0x254b2647fd0>"
      ]
     },
     "metadata": {},
     "output_type": "display_data"
    },
    {
     "data": {
      "text/plain": [
       "<matplotlib.figure.Figure at 0x254adc50828>"
      ]
     },
     "metadata": {},
     "output_type": "display_data"
    }
   ],
   "source": [
    "import matplotlib.pyplot as plt\n",
    "import pandas as pd\n",
    "\n",
    "data = [[USA_count1,USA_count2,USA_count3,'USA'], \n",
    "        [GBR_count1,GBR_count2,GBR_count3,'GBR'], \n",
    "        [IND_count1,IND_count2,IND_count3,'IND']] \n",
    "  \n",
    "# dataframe created with \n",
    "# the above data array \n",
    "df = pd.DataFrame(data, columns = ['Top1', 'Top2',  \n",
    "                                    'Top3','Countries'] )\n",
    "\n",
    "print(df)\n",
    "\n",
    "\n",
    "df.plot.bar()\n",
    "plt.xlabel('Countries') \n",
    "plt.ylabel(\"Count of the sectors\")\n",
    "plt.show()\n",
    "plt.savefig(r\"C:\\Users\\awx5324225\\Desktop\\Plot3.png\")"
   ]
  },
  {
   "cell_type": "code",
   "execution_count": 54,
   "metadata": {},
   "outputs": [],
   "source": [
    "#For 0 i.e. USA Top1= Others \n",
    "#For 0 i.e. USA Top2= Cleantech / Semiconductors\n",
    "#For 0 i.e. USA Top3= Social, Finance, Analytics, Advertising\n",
    "\n",
    "#For 1 i.e. GBR Top1= Others\n",
    "#For 1 i.e. GBR Top2= Cleantech / Semiconductors\n",
    "#For 1 i.e. GBR Top3= Social, Finance, Analytics, Advertising\n",
    "\n",
    "#For 2 i.e. IND Top1= Others\n",
    "#For 2 i.e. IND Top2= News, Search and Messaging\n",
    "#For 2 i.e. IND Top3= Social, Finance, Analytics, Advertising"
   ]
  },
  {
   "cell_type": "code",
   "execution_count": null,
   "metadata": {},
   "outputs": [],
   "source": []
  }
 ],
 "metadata": {
  "kernelspec": {
   "display_name": "Python 3",
   "language": "python",
   "name": "python3"
  },
  "language_info": {
   "codemirror_mode": {
    "name": "ipython",
    "version": 3
   },
   "file_extension": ".py",
   "mimetype": "text/x-python",
   "name": "python",
   "nbconvert_exporter": "python",
   "pygments_lexer": "ipython3",
   "version": "3.6.4"
  }
 },
 "nbformat": 4,
 "nbformat_minor": 2
}
